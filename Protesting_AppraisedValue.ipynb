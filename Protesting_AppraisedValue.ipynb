{
 "cells": [
  {
   "cell_type": "code",
   "execution_count": 1,
   "metadata": {},
   "outputs": [],
   "source": [
    "#Installing required packages\n",
    "from selenium import webdriver\n",
    "from selenium.webdriver.common.keys import Keys\n",
    "from selenium.webdriver.support.ui import WebDriverWait\n",
    "from selenium.webdriver.common.by import By\n",
    "import time\n",
    "import pandas as pd\n",
    "from selenium.common.exceptions import NoSuchElementException\n",
    "from selenium.webdriver.support import expected_conditions\n",
    "import numpy as np"
   ]
  },
  {
   "cell_type": "code",
   "execution_count": null,
   "metadata": {},
   "outputs": [],
   "source": [
    "#Reading the initial downloaded list of properties in the same neighborhood as the subject property\n",
    "list = pd.read_csv('/Users/sonali/Documents/PersonalProjects/neighborhood_appraisals/neighborhood_appraisals.csv')\n",
    "list.head()"
   ]
  },
  {
   "cell_type": "code",
   "execution_count": null,
   "metadata": {},
   "outputs": [],
   "source": [
    "#Selecting the 'link' column as it is the WCAD link from where we can scrape more information for each property\n",
    "link_list = list['Link']\n",
    "len(link_list)"
   ]
  },
  {
   "cell_type": "code",
   "execution_count": null,
   "metadata": {},
   "outputs": [],
   "source": [
    "#xpaths for all the variables we need to scrape along with the blank lists to store the scraped information\n",
    "area_xpath = '//table[@class=\"improvementTable\"]/tbody/tr[2]/td[5]'\n",
    "propid_xpath = '//table[@id=\"dnn_ctr1460_View_tblPropertyHeaderInfo\"]/tbody/tr[2]/td[1]'\n",
    "imp_xpath1 = '//div[@id=\"dnn_ctr1460_View_divCamaInfo\"]/ul/li/div/table/tbody/tr[2]'\n",
    "imp_xpath2 = '//div[@id=\"dnn_ctr1460_View_divCamaInfo\"]/ul/li/div/table/tbody/tr[3]'\n",
    "imp_xpath3 = '//div[@id=\"dnn_ctr1460_View_divCamaInfo\"]/ul/li/div/table/tbody/tr[4]'\n",
    "imp_xpath4 = '//div[@id=\"dnn_ctr1460_View_divCamaInfo\"]/ul/li/div/table/tbody/tr[5]'\n",
    "imp_xpath5 = '//div[@id=\"dnn_ctr1460_View_divCamaInfo\"]/ul/li/div/table/tbody/tr[6]'\n",
    "imp_xpath6 = '//div[@id=\"dnn_ctr1460_View_divCamaInfo\"]/ul/li/div/table/tbody/tr[7]'\n",
    "imp_xpath7 = '//div[@id=\"dnn_ctr1460_View_divCamaInfo\"]/ul/li/div/table/tbody/tr[8]'\n",
    "imp_xpath8 = '//div[@id=\"dnn_ctr1460_View_divCamaInfo\"]/ul/li/div/table/tbody/tr[9]'\n",
    "imp_xpath9 = '//div[@id=\"dnn_ctr1460_View_divCamaInfo\"]/ul/li/div/table/tbody/tr[10]'\n",
    "imp_xpath10 = '//div[@id=\"dnn_ctr1460_View_divCamaInfo\"]/ul/li/div/table/tbody/tr[11]'\n",
    "expand_xpath = '//i[@class=\"fa fa-plus-square-o\"]'\n",
    "area = []\n",
    "propid = []\n",
    "imp1 = []\n",
    "imp2 = []\n",
    "imp3 = []\n",
    "imp4 = []\n",
    "imp5 = []\n",
    "imp6 = []\n",
    "imp7 = []\n",
    "imp8 = []\n",
    "imp9 = []\n",
    "imp10 = []"
   ]
  },
  {
   "cell_type": "code",
   "execution_count": null,
   "metadata": {},
   "outputs": [],
   "source": [
    "#Scraping house size (in square feet) and property ID for all the properties in the above list\n",
    "driver = webdriver.Firefox(executable_path=r'/Users/sonali/Documents/geckodriver')\n",
    "for link in link_list:\n",
    "    driver.get(link)\n",
    "    try:\n",
    "        area_info = driver.find_element(By.XPATH, area_xpath)\n",
    "        area.append(area_info.text)\n",
    "    except NoSuchElementException:\n",
    "        area.append('-')\n",
    "    try:\n",
    "        propid_info = driver.find_element(By.XPATH, propid_xpath)\n",
    "        propid.append(propid_info.text)\n",
    "    except NoSuchElementException:\n",
    "        propid.append('-')"
   ]
  },
  {
   "cell_type": "code",
   "execution_count": null,
   "metadata": {},
   "outputs": [],
   "source": [
    "#Creating a dataframe with scraped information\n",
    "scrape = pd.DataFrame({'Property_ID':propid, 'area':area})\n",
    "scrape.head()"
   ]
  },
  {
   "cell_type": "code",
   "execution_count": null,
   "metadata": {},
   "outputs": [],
   "source": [
    "#Merging the scraped data with the initial list of all properties on \"Property_ID\"\n",
    "scraped_data = pd.merge(list, scrape,on='Property_ID', how='left')\n",
    "len(scraped_data)"
   ]
  },
  {
   "cell_type": "code",
   "execution_count": null,
   "metadata": {},
   "outputs": [],
   "source": [
    "#Writing 'scraped_data' datafile (to avoid losing it later)\n",
    "scraped_data.to_csv('/Users/sonali/Documents/PersonalProjects/scraped_data.csv', index=False)"
   ]
  },
  {
   "cell_type": "code",
   "execution_count": null,
   "metadata": {},
   "outputs": [],
   "source": [
    "#Reading 'scraped_data' datafile\n",
    "scraped_data = pd.read_csv('/Users/sonali/Documents/PersonalProjects/neighborhood_appraisals/Github/scraped_data.csv')\n",
    "scraped_data.head()"
   ]
  },
  {
   "cell_type": "code",
   "execution_count": null,
   "metadata": {},
   "outputs": [],
   "source": [
    "#Defining function to extract only numeric part from the 'area' column (2296 from 2,296 Sq. Ft)\n",
    "import re\n",
    "def extract_area(text):\n",
    "    match = re.search(r'(\\d+,\\d+)', text)\n",
    "    if match:\n",
    "        return match.group()\n",
    "    else:\n",
    "        return ''"
   ]
  },
  {
   "cell_type": "code",
   "execution_count": null,
   "metadata": {},
   "outputs": [],
   "source": [
    "#Applying above defined function to extract numeric part from the 'area' column\n",
    "scraped_data['area_1'] = scraped_data['area'].apply(extract_area)\n",
    "scraped_data.info()"
   ]
  },
  {
   "cell_type": "code",
   "execution_count": null,
   "metadata": {},
   "outputs": [],
   "source": [
    "#Converting 'area' to numeric from object data type and saving it in a new variable 'area_1'\n",
    "scraped_data['area_1'] = pd.to_numeric(scraped_data['area_1'].apply(lambda x: x.replace(',','')))"
   ]
  },
  {
   "cell_type": "code",
   "execution_count": null,
   "metadata": {},
   "outputs": [],
   "source": [
    "#Filtering properties within 100 square feet of our own property size (which is 2698)\n",
    "filt_scraped_data = scraped_data[(scraped_data['area_1']>2597) & (scraped_data['area_1']<2799)]\n",
    "filt_scraped_data.info()"
   ]
  },
  {
   "cell_type": "code",
   "execution_count": null,
   "metadata": {},
   "outputs": [],
   "source": [
    "#Writing 'filt_scraped_data' datafile (to avoid losing it later)\n",
    "filt_scraped_data.to_csv('/Users/sonali/Documents/PersonalProjects/data/filt_scraped_data.csv', index=False)"
   ]
  },
  {
   "cell_type": "code",
   "execution_count": null,
   "metadata": {},
   "outputs": [],
   "source": [
    "#Scraping improvements for filt_scraped_data in 3 parts (:40, 40:80 and 80:123)\n",
    "link_list1 = filt_scraped_data['Link']\n",
    "link_list1 = link_list1[:40]\n",
    "len(link_list)"
   ]
  },
  {
   "cell_type": "code",
   "execution_count": null,
   "metadata": {},
   "outputs": [],
   "source": [
    "#Scraping information on improvements for all the properties in the above list 'filt_scraped_data'\n",
    "for link in link_list1:\n",
    "    driver = webdriver.Firefox(executable_path=r'/Users/sonali/Documents/geckodriver')\n",
    "    driver.get(link)\n",
    "    try:\n",
    "        propid_info = driver.find_element(By.XPATH, propid_xpath)\n",
    "        propid.append(propid_info.text)\n",
    "    except NoSuchElementException:\n",
    "        propid.append('-')\n",
    "    try:\n",
    "        element = driver.find_element(By.XPATH, expand_xpath)\n",
    "        driver.execute_script(\"arguments[0].scrollIntoView();\", element)\n",
    "        element.click()\n",
    "        imp1_info = driver.find_element(By.XPATH, imp_xpath1)\n",
    "        imp1.append(imp1_info.text)\n",
    "    except NoSuchElementException:\n",
    "        imp1.append('-')\n",
    "    try:\n",
    "        imp2_info = driver.find_element(By.XPATH, imp_xpath2)\n",
    "        imp2.append(imp2_info.text)\n",
    "    except NoSuchElementException:\n",
    "        imp2.append('-')\n",
    "    try:\n",
    "        imp3_info = driver.find_element(By.XPATH, imp_xpath3)\n",
    "        imp3.append(imp3_info.text)\n",
    "    except NoSuchElementException:\n",
    "        imp3.append('-')\n",
    "    try:\n",
    "        imp4_info = driver.find_element(By.XPATH, imp_xpath4)\n",
    "        imp4.append(imp4_info.text)\n",
    "    except NoSuchElementException:\n",
    "        imp4.append('-')\n",
    "    try:\n",
    "        imp5_info = driver.find_element(By.XPATH, imp_xpath5)\n",
    "        imp5.append(imp5_info.text)\n",
    "    except NoSuchElementException:\n",
    "        imp5.append('-')\n",
    "    try:\n",
    "        imp6_info = driver.find_element(By.XPATH, imp_xpath6)\n",
    "        imp6.append(imp6_info.text)\n",
    "    except NoSuchElementException:\n",
    "        imp6.append('-')\n",
    "    try:\n",
    "        imp7_info = driver.find_element(By.XPATH, imp_xpath7)\n",
    "        imp7.append(imp7_info.text)\n",
    "    except NoSuchElementException:\n",
    "        imp7.append('-')\n",
    "    try:\n",
    "        imp8_info = driver.find_element(By.XPATH, imp_xpath8)\n",
    "        imp8.append(imp8_info.text)\n",
    "    except NoSuchElementException:\n",
    "        imp8.append('-')\n",
    "    try:\n",
    "        imp9_info = driver.find_element(By.XPATH, imp_xpath9)\n",
    "        imp9.append(imp9_info.text)\n",
    "    except NoSuchElementException:\n",
    "        imp9.append('-')\n",
    "    try:\n",
    "        imp10_info = driver.find_element(By.XPATH, imp_xpath10)\n",
    "        imp10.append(imp10_info.text)\n",
    "    except NoSuchElementException:\n",
    "        imp10.append('-')"
   ]
  },
  {
   "cell_type": "code",
   "execution_count": null,
   "metadata": {},
   "outputs": [],
   "source": [
    "#Creating a dataframe with scraped information on improvements\n",
    "imp_list1 = pd.DataFrame({'PROPERTY ID':propid,'imp1':imp1,'imp2':imp2,'imp3':imp3,'imp4':imp4,\n",
    "                        'imp5':imp5,'imp6':imp6,'imp7':imp7,'imp8':imp8,'imp9':imp9,'imp10':imp10})\n",
    "imp_list1.head()"
   ]
  },
  {
   "cell_type": "code",
   "execution_count": null,
   "metadata": {},
   "outputs": [],
   "source": [
    "#Writing 'imp_list1' datafile (to avoid losing it later)\n",
    "imp_list1.to_csv('/Users/sonali/Documents/PersonalProjects/imp_list1.csv', index=False)"
   ]
  },
  {
   "cell_type": "code",
   "execution_count": null,
   "metadata": {},
   "outputs": [],
   "source": [
    "#Similarly scraped and wrote datafiles for 'filt_scraped_data' in 3 parts; reading the 3 datafiles\n",
    "imp_list1 = pd.read_csv('/Users/sonali/Documents/PersonalProjects/data/imp_list1.csv')\n",
    "imp_list2 = pd.read_csv('/Users/sonali/Documents/PersonalProjects/data/imp_list2.csv')\n",
    "imp_list3 = pd.read_csv('/Users/sonali/Documents/PersonalProjects/data/imp_list3.csv')"
   ]
  },
  {
   "cell_type": "code",
   "execution_count": null,
   "metadata": {},
   "outputs": [],
   "source": [
    "#Concatenating above 3 datafiles into single file\n",
    "imp_list = pd.concat([imp_list1,imp_list2,imp_list3])"
   ]
  },
  {
   "cell_type": "code",
   "execution_count": null,
   "metadata": {},
   "outputs": [],
   "source": [
    "#Writing 'imp_list' datafile (to avoid losing it later)\n",
    "imp_list.to_csv('/Users/sonali/Documents/PersonalProjects/data/imp_list.csv', index=False)"
   ]
  },
  {
   "cell_type": "code",
   "execution_count": null,
   "metadata": {},
   "outputs": [],
   "source": [
    "#Merging the scraped data 'imp_list' with the filtered list of properties 'filt_scraped_data' on \"Property_ID\"\n",
    "prop_list = pd.merge(filt_scraped_data, imp_list,on='PROPERTY ID', how='left')"
   ]
  },
  {
   "cell_type": "code",
   "execution_count": null,
   "metadata": {},
   "outputs": [],
   "source": [
    "#Writing 'prop_list' datafile (to avoid losing it later)\n",
    "prop_list.to_csv('/Users/sonali/Documents/PersonalProjects/neighborhood_appraisals/prop_list.csv', index=False)"
   ]
  },
  {
   "cell_type": "code",
   "execution_count": null,
   "metadata": {},
   "outputs": [],
   "source": [
    "#Reading 'prop_list' datafile\n",
    "prop_list = pd.read_csv('/Users/sonali/Documents/PersonalProjects/neighborhood_appraisals/prop_list.csv')\n",
    "prop_list.info()"
   ]
  },
  {
   "cell_type": "code",
   "execution_count": 3,
   "metadata": {},
   "outputs": [],
   "source": [
    "#Defining function to extract improvement name from the improvement columns ('Garage' from '3 Garage 1994 420 N/A Details')\n",
    "import re\n",
    "def extract_imp_name(text):\n",
    "    match = re.search(r'\\d{1,2}\\s?(.*?)\\s?(\\d+|-)', text)\n",
    "    if match:\n",
    "        return match.group(1)\n",
    "    else:\n",
    "        return ''"
   ]
  },
  {
   "cell_type": "code",
   "execution_count": 4,
   "metadata": {},
   "outputs": [],
   "source": [
    "#Defining function to extract improvement area from the improvement columns ('420' from '3 Garage 1994 420 N/A Details')\n",
    "import re\n",
    "def extract_imp_area(text):\n",
    "    match = re.search(r'\\d{1,2}\\s?.*?\\s?(\\d+|-)\\s?(\\d+,?\\d*)', text)\n",
    "    if match:\n",
    "        return match.group(2)\n",
    "    else:\n",
    "        return ''"
   ]
  },
  {
   "cell_type": "code",
   "execution_count": 16,
   "metadata": {},
   "outputs": [],
   "source": [
    "#Creating lists to store improvement area for each improvement ('420' from '3 Garage 1994 420 N/A Details')\n",
    "imp1 = prop_list['imp1'].apply(extract_imp_area)\n",
    "imp2 = prop_list['imp2'].apply(extract_imp_area)\n",
    "imp3 = prop_list['imp3'].apply(extract_imp_area)\n",
    "imp4 = prop_list['imp4'].apply(extract_imp_area)\n",
    "imp5 = prop_list['imp5'].apply(extract_imp_area)\n",
    "imp6 = prop_list['imp6'].apply(extract_imp_area)\n",
    "imp7 = prop_list['imp7'].apply(extract_imp_area)\n",
    "imp8 = prop_list['imp8'].apply(extract_imp_area)\n",
    "imp9 = prop_list['imp9'].apply(extract_imp_area)\n",
    "imp10 = prop_list['imp10'].apply(extract_imp_area)"
   ]
  },
  {
   "cell_type": "code",
   "execution_count": 19,
   "metadata": {},
   "outputs": [],
   "source": [
    "#Creatng column 'Fireplace' having number of fireplaces for each property\n",
    "prop_list['Fireplace'] = np.where(prop_list['imp1'].apply(extract_imp_name)=='Fireplace',\n",
    "                                  pd.to_numeric(imp1.apply(lambda x: x.replace(',',''))),0)\n",
    "prop_list['Fireplace'] = np.where(prop_list['imp2'].apply(extract_imp_name)=='Fireplace',\n",
    "                                  prop_list['Fireplace']+pd.to_numeric(imp2.apply(lambda x: x.replace(',',''))),prop_list['Fireplace'])\n",
    "prop_list['Fireplace'] = np.where(prop_list['imp3'].apply(extract_imp_name)=='Fireplace',\n",
    "                                  prop_list['Fireplace']+pd.to_numeric(imp3.apply(lambda x: x.replace(',',''))),prop_list['Fireplace'])\n",
    "prop_list['Fireplace'] = np.where(prop_list['imp4'].apply(extract_imp_name)=='Fireplace',\n",
    "                                  prop_list['Fireplace']+pd.to_numeric(imp4.apply(lambda x: x.replace(',',''))),prop_list['Fireplace'])\n",
    "prop_list['Fireplace'] = np.where(prop_list['imp5'].apply(extract_imp_name)=='Fireplace',\n",
    "                                  prop_list['Fireplace']+pd.to_numeric(imp5.apply(lambda x: x.replace(',',''))),prop_list['Fireplace'])\n",
    "prop_list['Fireplace'] = np.where(prop_list['imp6'].apply(extract_imp_name)=='Fireplace',\n",
    "                                  prop_list['Fireplace']+pd.to_numeric(imp6.apply(lambda x: x.replace(',',''))),prop_list['Fireplace'])\n",
    "prop_list['Fireplace'] = np.where(prop_list['imp7'].apply(extract_imp_name)=='Fireplace',\n",
    "                                  prop_list['Fireplace']+pd.to_numeric(imp7.apply(lambda x: x.replace(',',''))),prop_list['Fireplace'])\n",
    "prop_list['Fireplace'] = np.where(prop_list['imp8'].apply(extract_imp_name)=='Fireplace',\n",
    "                                  prop_list['Fireplace']+pd.to_numeric(imp8.apply(lambda x: x.replace(',',''))),prop_list['Fireplace'])\n",
    "prop_list['Fireplace'] = np.where(prop_list['imp9'].apply(extract_imp_name)=='Fireplace',\n",
    "                                  prop_list['Fireplace']+pd.to_numeric(imp9.apply(lambda x: x.replace(',',''))),prop_list['Fireplace'])\n",
    "prop_list['Fireplace'] = np.where(prop_list['imp10'].apply(extract_imp_name)=='Fireplace',\n",
    "                                  prop_list['Fireplace']+pd.to_numeric(imp10.apply(lambda x: x.replace(',',''))),prop_list['Fireplace'])"
   ]
  },
  {
   "cell_type": "code",
   "execution_count": 20,
   "metadata": {},
   "outputs": [],
   "source": [
    "#Creatng column 'Garage' having total area for garage for each property\n",
    "prop_list['Garage'] = np.where(prop_list['imp1'].apply(extract_imp_name)=='Garage',\n",
    "                                  pd.to_numeric(imp1.apply(lambda x: x.replace(',',''))),0)\n",
    "prop_list['Garage'] = np.where(prop_list['imp2'].apply(extract_imp_name)=='Garage',\n",
    "                                  prop_list['Garage']+pd.to_numeric(imp2.apply(lambda x: x.replace(',',''))),prop_list['Garage'])\n",
    "prop_list['Garage'] = np.where(prop_list['imp3'].apply(extract_imp_name)=='Garage',\n",
    "                                  prop_list['Garage']+pd.to_numeric(imp3.apply(lambda x: x.replace(',',''))),prop_list['Garage'])\n",
    "prop_list['Garage'] = np.where(prop_list['imp4'].apply(extract_imp_name)=='Garage',\n",
    "                                  prop_list['Garage']+pd.to_numeric(imp4.apply(lambda x: x.replace(',',''))),prop_list['Garage'])\n",
    "prop_list['Garage'] = np.where(prop_list['imp5'].apply(extract_imp_name)=='Garage',\n",
    "                                  prop_list['Garage']+pd.to_numeric(imp5.apply(lambda x: x.replace(',',''))),prop_list['Garage'])\n",
    "prop_list['Garage'] = np.where(prop_list['imp6'].apply(extract_imp_name)=='Garage',\n",
    "                                  prop_list['Garage']+pd.to_numeric(imp6.apply(lambda x: x.replace(',',''))),prop_list['Garage'])\n",
    "prop_list['Garage'] = np.where(prop_list['imp7'].apply(extract_imp_name)=='Garage',\n",
    "                                  prop_list['Garage']+pd.to_numeric(imp7.apply(lambda x: x.replace(',',''))),prop_list['Garage'])\n",
    "prop_list['Garage'] = np.where(prop_list['imp8'].apply(extract_imp_name)=='Garage',\n",
    "                                  prop_list['Garage']+pd.to_numeric(imp8.apply(lambda x: x.replace(',',''))),prop_list['Garage'])\n",
    "prop_list['Garage'] = np.where(prop_list['imp9'].apply(extract_imp_name)=='Garage',\n",
    "                                  prop_list['Garage']+pd.to_numeric(imp9.apply(lambda x: x.replace(',',''))),prop_list['Garage'])\n",
    "prop_list['Garage'] = np.where(prop_list['imp10'].apply(extract_imp_name)=='Garage',\n",
    "                                  prop_list['Garage']+pd.to_numeric(imp10.apply(lambda x: x.replace(',',''))),prop_list['Garage'])"
   ]
  },
  {
   "cell_type": "code",
   "execution_count": 22,
   "metadata": {},
   "outputs": [],
   "source": [
    "#Creatng column 'OpenPorch' having total area for Open Porch for each property\n",
    "prop_list['OpenPorch'] = np.where(prop_list['imp1'].apply(extract_imp_name)=='Open Porch',\n",
    "                                  pd.to_numeric(imp1.apply(lambda x: x.replace(',',''))),0)\n",
    "prop_list['OpenPorch'] = np.where(prop_list['imp2'].apply(extract_imp_name)=='Open Porch',\n",
    "                                  prop_list['OpenPorch']+pd.to_numeric(imp2.apply(lambda x: x.replace(',',''))),prop_list['OpenPorch'])\n",
    "prop_list['OpenPorch'] = np.where(prop_list['imp3'].apply(extract_imp_name)=='Open Porch',\n",
    "                                  prop_list['OpenPorch']+pd.to_numeric(imp3.apply(lambda x: x.replace(',',''))),prop_list['OpenPorch'])\n",
    "prop_list['OpenPorch'] = np.where(prop_list['imp4'].apply(extract_imp_name)=='Open Porch',\n",
    "                                  prop_list['OpenPorch']+pd.to_numeric(imp4.apply(lambda x: x.replace(',',''))),prop_list['OpenPorch'])\n",
    "prop_list['OpenPorch'] = np.where(prop_list['imp5'].apply(extract_imp_name)=='Open Porch',\n",
    "                                  prop_list['OpenPorch']+pd.to_numeric(imp5.apply(lambda x: x.replace(',',''))),prop_list['OpenPorch'])\n",
    "prop_list['OpenPorch'] = np.where(prop_list['imp6'].apply(extract_imp_name)=='Open Porch',\n",
    "                                  prop_list['OpenPorch']+pd.to_numeric(imp6.apply(lambda x: x.replace(',',''))),prop_list['OpenPorch'])\n",
    "prop_list['OpenPorch'] = np.where(prop_list['imp7'].apply(extract_imp_name)=='Open Porch',\n",
    "                                  prop_list['OpenPorch']+pd.to_numeric(imp7.apply(lambda x: x.replace(',',''))),prop_list['OpenPorch'])\n",
    "prop_list['OpenPorch'] = np.where(prop_list['imp8'].apply(extract_imp_name)=='Open Porch',\n",
    "                                  prop_list['OpenPorch']+pd.to_numeric(imp8.apply(lambda x: x.replace(',',''))),prop_list['OpenPorch'])\n",
    "prop_list['OpenPorch'] = np.where(prop_list['imp9'].apply(extract_imp_name)=='Open Porch',\n",
    "                                  prop_list['OpenPorch']+pd.to_numeric(imp9.apply(lambda x: x.replace(',',''))),prop_list['OpenPorch'])\n",
    "prop_list['OpenPorch'] = np.where(prop_list['imp10'].apply(extract_imp_name)=='Open Porch',\n",
    "                                  prop_list['OpenPorch']+pd.to_numeric(imp10.apply(lambda x: x.replace(',',''))),prop_list['OpenPorch'])"
   ]
  },
  {
   "cell_type": "code",
   "execution_count": 23,
   "metadata": {},
   "outputs": [],
   "source": [
    "#Creatng column 'Deck' having total area for Deck for each property\n",
    "prop_list['Deck'] = np.where(prop_list['imp1'].apply(extract_imp_name)=='Deck',\n",
    "                                  pd.to_numeric(imp1.apply(lambda x: x.replace(',',''))),0)\n",
    "prop_list['Deck'] = np.where(prop_list['imp2'].apply(extract_imp_name)=='Deck',\n",
    "                                  prop_list['Deck']+pd.to_numeric(imp2.apply(lambda x: x.replace(',',''))),prop_list['Deck'])\n",
    "prop_list['Deck'] = np.where(prop_list['imp3'].apply(extract_imp_name)=='Deck',\n",
    "                                  prop_list['Deck']+pd.to_numeric(imp3.apply(lambda x: x.replace(',',''))),prop_list['Deck'])\n",
    "prop_list['Deck'] = np.where(prop_list['imp4'].apply(extract_imp_name)=='Deck',\n",
    "                                  prop_list['Deck']+pd.to_numeric(imp4.apply(lambda x: x.replace(',',''))),prop_list['Deck'])\n",
    "prop_list['Deck'] = np.where(prop_list['imp5'].apply(extract_imp_name)=='Deck',\n",
    "                                  prop_list['Deck']+pd.to_numeric(imp5.apply(lambda x: x.replace(',',''))),prop_list['Deck'])\n",
    "prop_list['Deck'] = np.where(prop_list['imp6'].apply(extract_imp_name)=='Deck',\n",
    "                                  prop_list['Deck']+pd.to_numeric(imp6.apply(lambda x: x.replace(',',''))),prop_list['Deck'])\n",
    "prop_list['Deck'] = np.where(prop_list['imp7'].apply(extract_imp_name)=='Deck',\n",
    "                                  prop_list['Deck']+pd.to_numeric(imp7.apply(lambda x: x.replace(',',''))),prop_list['Deck'])\n",
    "prop_list['Deck'] = np.where(prop_list['imp8'].apply(extract_imp_name)=='Deck',\n",
    "                                  prop_list['Deck']+pd.to_numeric(imp8.apply(lambda x: x.replace(',',''))),prop_list['Deck'])\n",
    "prop_list['Deck'] = np.where(prop_list['imp9'].apply(extract_imp_name)=='Deck',\n",
    "                                  prop_list['Deck']+pd.to_numeric(imp9.apply(lambda x: x.replace(',',''))),prop_list['Deck'])\n",
    "prop_list['Deck'] = np.where(prop_list['imp10'].apply(extract_imp_name)=='Deck',\n",
    "                                  prop_list['Deck']+pd.to_numeric(imp10.apply(lambda x: x.replace(',',''))),prop_list['Deck'])"
   ]
  },
  {
   "cell_type": "code",
   "execution_count": 24,
   "metadata": {},
   "outputs": [],
   "source": [
    "#Creatng column 'Patio' having total area for Patio for each property\n",
    "prop_list['Patio'] = np.where(prop_list['imp1'].apply(extract_imp_name)=='Patio',\n",
    "                                  pd.to_numeric(imp1.apply(lambda x: x.replace(',',''))),0)\n",
    "prop_list['Patio'] = np.where(prop_list['imp2'].apply(extract_imp_name)=='Patio',\n",
    "                                  prop_list['Patio']+pd.to_numeric(imp2.apply(lambda x: x.replace(',',''))),prop_list['Patio'])\n",
    "prop_list['Patio'] = np.where(prop_list['imp3'].apply(extract_imp_name)=='Patio',\n",
    "                                  prop_list['Patio']+pd.to_numeric(imp3.apply(lambda x: x.replace(',',''))),prop_list['Patio'])\n",
    "prop_list['Patio'] = np.where(prop_list['imp4'].apply(extract_imp_name)=='Patio',\n",
    "                                  prop_list['Patio']+pd.to_numeric(imp4.apply(lambda x: x.replace(',',''))),prop_list['Patio'])\n",
    "prop_list['Patio'] = np.where(prop_list['imp5'].apply(extract_imp_name)=='Patio',\n",
    "                                  prop_list['Patio']+pd.to_numeric(imp5.apply(lambda x: x.replace(',',''))),prop_list['Patio'])\n",
    "prop_list['Patio'] = np.where(prop_list['imp6'].apply(extract_imp_name)=='Patio',\n",
    "                                  prop_list['Patio']+pd.to_numeric(imp6.apply(lambda x: x.replace(',',''))),prop_list['Patio'])\n",
    "prop_list['Patio'] = np.where(prop_list['imp7'].apply(extract_imp_name)=='Patio',\n",
    "                                  prop_list['Patio']+pd.to_numeric(imp7.apply(lambda x: x.replace(',',''))),prop_list['Patio'])\n",
    "prop_list['Patio'] = np.where(prop_list['imp8'].apply(extract_imp_name)=='Patio',\n",
    "                                  prop_list['Patio']+pd.to_numeric(imp8.apply(lambda x: x.replace(',',''))),prop_list['Patio'])\n",
    "prop_list['Patio'] = np.where(prop_list['imp9'].apply(extract_imp_name)=='Patio',\n",
    "                                  prop_list['Patio']+pd.to_numeric(imp9.apply(lambda x: x.replace(',',''))),prop_list['Patio'])\n",
    "prop_list['Patio'] = np.where(prop_list['imp10'].apply(extract_imp_name)=='Patio',\n",
    "                                  prop_list['Patio']+pd.to_numeric(imp10.apply(lambda x: x.replace(',',''))),prop_list['Patio'])"
   ]
  },
  {
   "cell_type": "code",
   "execution_count": 25,
   "metadata": {},
   "outputs": [],
   "source": [
    "#Calculating adjusments for Fireplace, Garage, Open Porch, Deck and Patio\n",
    "prop_list['Fireplace_adj'] = (1-prop_list['Fireplace'])*12354\n",
    "prop_list['Garage_adj'] = (483-prop_list['Garage'])*19.47\n",
    "prop_list['OpenPorch_adj'] = (64-prop_list['OpenPorch'])*31.81\n",
    "prop_list['Deck_adj'] = (588-prop_list['Deck'])*47.35\n",
    "prop_list['Patio_adj'] = (0-prop_list['Patio'])*34.75"
   ]
  },
  {
   "cell_type": "code",
   "execution_count": 27,
   "metadata": {},
   "outputs": [],
   "source": [
    "#Creating new column for size adjustment\n",
    "prop_list['size_adj'] = (2698-prop_list['area_1'])*75"
   ]
  },
  {
   "cell_type": "code",
   "execution_count": null,
   "metadata": {},
   "outputs": [],
   "source": [
    "#Converting 'Value_2023' to numeric from object type\n",
    "prop_list['Value_2023'] = pd.to_numeric(prop_list['Value_2023'].apply(lambda x: x.replace(',', '').replace('$', '')))"
   ]
  },
  {
   "cell_type": "code",
   "execution_count": 28,
   "metadata": {},
   "outputs": [],
   "source": [
    "#Calculating appraisal value with all the adjustments as 'app_value' variable\n",
    "prop_list['app_value'] = (prop_list['size_adj']+prop_list['Fireplace_adj']+prop_list['Garage_adj']+prop_list['OpenPorch_adj']+\n",
    "prop_list['Deck_adj']+prop_list['Patio_adj']+prop_list['Value_2023'])"
   ]
  },
  {
   "cell_type": "code",
   "execution_count": 31,
   "metadata": {},
   "outputs": [],
   "source": [
    "#Writing the datafile as 'final_list.csv'\n",
    "prop_list.to_csv('/Users/sonali/Documents/PersonalProjects/neighborhood_appraisals/final_list.csv', index=False)"
   ]
  }
 ],
 "metadata": {
  "kernelspec": {
   "display_name": "Python 3",
   "language": "python",
   "name": "python3"
  },
  "language_info": {
   "codemirror_mode": {
    "name": "ipython",
    "version": 3
   },
   "file_extension": ".py",
   "mimetype": "text/x-python",
   "name": "python",
   "nbconvert_exporter": "python",
   "pygments_lexer": "ipython3",
   "version": "3.9.6"
  },
  "orig_nbformat": 4
 },
 "nbformat": 4,
 "nbformat_minor": 2
}
